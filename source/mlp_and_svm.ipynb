{
 "cells": [
  {
   "cell_type": "code",
   "execution_count": 1,
   "metadata": {},
   "outputs": [],
   "source": [
    "from sklearn.model_selection import train_test_split\n",
    "from sklearn.metrics import classification_report\n",
    "from sklearn.model_selection import GridSearchCV\n",
    "from tensorflow.keras.layers import Dropout\n",
    "import matplotlib.pyplot as plt\n",
    "from tensorflow import keras\n",
    "from sklearn.svm import SVC\n",
    "import tensorflow as tf\n",
    "import pandas as pd\n",
    "import numpy as np\n",
    "\n",
    "import seaborn as sns\n",
    "from sklearn import svm\n",
    "from sklearn.metrics import f1_score\n",
    "from sklearn.decomposition import PCA\n",
    "from mpl_toolkits.mplot3d import Axes3D\n",
    "from sklearn import decomposition\n",
    "from sklearn.discriminant_analysis import LinearDiscriminantAnalysis\n",
    "from sklearn.model_selection import KFold\n",
    "from sklearn.metrics import accuracy_score\n",
    "from sklearn.metrics import confusion_matrix\n",
    "from sklearn.metrics import plot_confusion_matrix\n",
    "from sklearn.metrics import classification_report\n",
    "from sklearn.model_selection import RepeatedKFold\n",
    "from sklearn.model_selection import cross_validate\n",
    "from sklearn.model_selection import cross_val_score"
   ]
  },
  {
   "cell_type": "code",
   "execution_count": 2,
   "metadata": {},
   "outputs": [],
   "source": [
    "def convert_to_float(data):\n",
    "    data=data\n",
    "    for i in data:\n",
    "        for index,j in enumerate(i):\n",
    "            i[index]=float(j)\n",
    "    return data\n",
    "\n",
    "def get_list_fromcsv(file):\n",
    "    with open(file, newline='') as f:\n",
    "        reader = csv.reader(f)\n",
    "        data = list(reader)\n",
    "    return data"
   ]
  },
  {
   "cell_type": "code",
   "execution_count": 3,
   "metadata": {},
   "outputs": [
    {
     "name": "stdout",
     "output_type": "stream",
     "text": [
      "buy.net//4239\n"
     ]
    }
   ],
   "source": [
    "df_embedsSG=pd.read_csv('C:/Users/anujp/Desktop/sort/Entity_Resolution_Project/data/csv_files/pagetitle-embedding-model skipgram-loss 0.36599-200405.csv')\n",
    "#df_embedsCBOW=pd.read_csv('gdrive/My Drive/ERProject/Data/pagetitle-embedding-model CBOW-loss 0.86-200404.csv')\n",
    "df_encodes=pd.read_csv('C:/Users/anujp/Desktop/sort/Entity_Resolution_Project/data/csv_files/binary_codes.csv')\n",
    "model_encodes_list=list(df_encodes['model_binary'])\n",
    "brand_encodes_list=list(df_encodes['brand_binary'])\n",
    "#df_final=pd.read_csv('gdrive/My Drive/ERProject/Data/final dataframe with specid_pagetitle_brand_model-200404.csv')\n",
    "#page_title_list=list(df_final['page_title'])\n",
    "spec_id_list=list(df_embedsSG['spec_id'])\n",
    "print(spec_id_list[2])\n",
    "df_embedsSG=df_embedsSG.drop(['spec_id'],axis=1)\n",
    "data=df_embedsSG.values.tolist()\n",
    "data=convert_to_float(data)\n",
    "#df1=pd.read_csv(\"gdrive/My Drive/hashes/all_web_final_ds.csv\")\n",
    "#page_title_dict=dict(zip(spec_id_list,page_title_list))\n",
    "\n",
    "embeddings_dict=dict(zip(spec_id_list,data))\n",
    "model_encodes_dict=dict(zip(spec_id_list,model_encodes_list))\n",
    "brand_encodes_dict=dict(zip(spec_id_list,brand_encodes_list))\n",
    "#print(embeddings_dict[spec_id_list[0]])\n",
    "df_groundtruth=pd.read_csv(\"C:/Users/anujp/Desktop/sort/Entity_Resolution_Project/data/csv_files/final_extended_groundtruth.csv\")"
   ]
  },
  {
   "cell_type": "code",
   "execution_count": 4,
   "metadata": {},
   "outputs": [
    {
     "name": "stdout",
     "output_type": "stream",
     "text": [
      "        0         1         2         3         4         5         6    \\\n",
      "0  0.997625  0.988740  0.995138  0.985958  0.977046  0.993935  0.980872   \n",
      "1  0.999377  0.997046  0.996956  0.987736  0.984633  0.989180  0.994408   \n",
      "2  0.993932  0.997313  0.989149  0.976998  0.973722  0.993381  0.997572   \n",
      "3  0.994729  0.991153  0.996982  0.993652  0.990244  0.990611  0.984455   \n",
      "4  0.998418  0.965758  0.979940  0.989037  0.997031  0.975525  0.976280   \n",
      "\n",
      "        7         8         9    ...       292       293       294       295  \\\n",
      "0  0.992165  0.982019  0.964137  ...  0.980535  0.992832  0.998886  0.996241   \n",
      "1  0.994585  0.987303  0.994005  ...  0.997531  0.973616  0.984738  0.999907   \n",
      "2  0.995421  0.999765  0.991003  ...  0.985391  0.963141  0.996169  0.981094   \n",
      "3  0.994277  0.997171  0.992763  ...  0.998935  0.981874  0.995334  0.986817   \n",
      "4  0.974280  0.990112  0.991736  ...  0.999353  0.982289  0.999908  0.979733   \n",
      "\n",
      "        296       297       298       299  300  301  \n",
      "0  0.998890  0.992645  0.973175  0.992470    1    1  \n",
      "1  0.986047  0.984738  0.998227  0.954744    0    0  \n",
      "2  0.995441  0.994507  0.998177  0.986101    1    1  \n",
      "3  0.995781  0.999044  0.978355  0.992475    1    1  \n",
      "4  0.992587  0.994639  0.982379  0.980848    1    0  \n",
      "\n",
      "[5 rows x 302 columns]\n"
     ]
    }
   ],
   "source": [
    "new_df=pd.DataFrame()\n",
    "new_df['vector1']=df_groundtruth['left_spec_id'].apply(lambda x: np.array(embeddings_dict[x]))\n",
    "new_df['vector2']=df_groundtruth['right_spec_id'].apply(lambda x: np.array(embeddings_dict[x]))\n",
    "left_list=list(df_groundtruth['left_spec_id'])\n",
    "right_list=list(df_groundtruth['right_spec_id'])\n",
    "brand_list=[]\n",
    "model_list=[]\n",
    "for i in range(len(left_list)):\n",
    "  if (brand_encodes_dict[left_list[i]]==brand_encodes_dict[right_list[i]]):\n",
    "    brand_list.append(int(1))\n",
    "  else:\n",
    "    brand_list.append(int(0))\n",
    "for i in range(len(left_list)):\n",
    "  if (model_encodes_dict[left_list[i]]==model_encodes_dict[right_list[i]]):\n",
    "    model_list.append(int(1))\n",
    "  else:\n",
    "    model_list.append(int(0))\n",
    "\n",
    "new_df['abs_diff']=1-(np.subtract(new_df['vector1'],new_df['vector2'])).abs()\n",
    "abs_diff_list=list(new_df['abs_diff'])\n",
    "df_absdiff=pd.DataFrame(abs_diff_list)\n",
    "df_absdiff[300]=brand_list\n",
    "df_absdiff[301]=model_list\n",
    "print(df_absdiff.head())"
   ]
  },
  {
   "cell_type": "code",
   "execution_count": 5,
   "metadata": {},
   "outputs": [
    {
     "data": {
      "text/plain": [
       "'\\nX_train,X_test,y_train,y_test=train_test_split(X,y,test_size=0.30)\\nprint(X_train.head())\\nprint(y_train.head())\\nlist_1s=list(y_train)\\nlist_numpy=np.array(list_1s)\\n(unique,counts)=np.unique(list_numpy,return_counts=True)\\nprint(\\'training:\\n\\')\\nprint(np.asarray((unique,counts)))\\nlist_1s_test=list(y_test)\\nlist_numpy_test=np.array(list_1s_test)\\n(unique_test,counts_test)=np.unique(list_numpy_test,return_counts=True)\\nprint(\"testing:\")\\nprint(np.asarray((unique_test,counts_test)))\\n#print(y_test)\\n\\nitem = X_train.head()\\nprint(item)\\n'"
      ]
     },
     "execution_count": 5,
     "metadata": {},
     "output_type": "execute_result"
    }
   ],
   "source": [
    "X=df_absdiff.copy()\n",
    "y=df_groundtruth['label']\n",
    "'''\n",
    "X_train,X_test,y_train,y_test=train_test_split(X,y,test_size=0.30)\n",
    "print(X_train.head())\n",
    "print(y_train.head())\n",
    "list_1s=list(y_train)\n",
    "list_numpy=np.array(list_1s)\n",
    "(unique,counts)=np.unique(list_numpy,return_counts=True)\n",
    "print('training:\\n')\n",
    "print(np.asarray((unique,counts)))\n",
    "list_1s_test=list(y_test)\n",
    "list_numpy_test=np.array(list_1s_test)\n",
    "(unique_test,counts_test)=np.unique(list_numpy_test,return_counts=True)\n",
    "print(\"testing:\")\n",
    "print(np.asarray((unique_test,counts_test)))\n",
    "#print(y_test)\n",
    "\n",
    "item = X_train.head()\n",
    "print(item)\n",
    "'''"
   ]
  },
  {
   "cell_type": "code",
   "execution_count": 6,
   "metadata": {},
   "outputs": [
    {
     "name": "stdout",
     "output_type": "stream",
     "text": [
      "Shape of X = (97615, 302)\n",
      "Shape of Y = (97615,)\n"
     ]
    }
   ],
   "source": [
    "print('Shape of X = {}'.format(X.shape))\n",
    "print('Shape of Y = {}'.format(y.shape))"
   ]
  },
  {
   "cell_type": "markdown",
   "metadata": {},
   "source": [
    "## Splitting Data into Train-Val-Test"
   ]
  },
  {
   "cell_type": "code",
   "execution_count": 7,
   "metadata": {},
   "outputs": [],
   "source": [
    "X_train, X_test, Y_train, Y_test = train_test_split(X, y, test_size=0.20)\n",
    "#X_train, X_val, Y_train, Y_val = train_test_split(X_train, Y_train, test_size=0.25, random_state=42)"
   ]
  },
  {
   "cell_type": "code",
   "execution_count": 8,
   "metadata": {},
   "outputs": [
    {
     "name": "stdout",
     "output_type": "stream",
     "text": [
      "shape of X_train : (78092, 302)\n",
      "shape of Y_train : (78092,)\n",
      "shape of X_test  : (19523, 302)\n",
      "shape of Y_test  : (19523,)\n"
     ]
    }
   ],
   "source": [
    "print('shape of X_train : {}'.format(X_train.shape))\n",
    "print('shape of Y_train : {}'.format(Y_train.shape))\n",
    "#print('shape of X_val   : {}'.format(X_val.shape))\n",
    "#print('shape of Y_val   : {}'.format(Y_val.shape))\n",
    "print('shape of X_test  : {}'.format(X_test.shape))\n",
    "print('shape of Y_test  : {}'.format(Y_test.shape))"
   ]
  },
  {
   "cell_type": "code",
   "execution_count": 9,
   "metadata": {},
   "outputs": [],
   "source": [
    "dataset = tf.data.Dataset.from_tensor_slices((X_train.values, Y_train.values))"
   ]
  },
  {
   "cell_type": "code",
   "execution_count": 10,
   "metadata": {},
   "outputs": [],
   "source": [
    "train_dataset = dataset.shuffle(len(data))"
   ]
  },
  {
   "cell_type": "code",
   "execution_count": 11,
   "metadata": {},
   "outputs": [],
   "source": [
    "X_train = X_train.values\n",
    "Y_train = Y_train.values\n",
    "#X_val   = X_val.values\n",
    "#Y_val   = Y_val.values\n",
    "X_test  = X_test.values\n",
    "Y_test  = Y_test.values"
   ]
  },
  {
   "cell_type": "code",
   "execution_count": 12,
   "metadata": {},
   "outputs": [
    {
     "data": {
      "text/plain": [
       "<function ndarray.transpose>"
      ]
     },
     "execution_count": 12,
     "metadata": {},
     "output_type": "execute_result"
    }
   ],
   "source": [
    "Y_train.transpose\n",
    "#Y_val.transpose\n",
    "Y_test.transpose"
   ]
  },
  {
   "cell_type": "markdown",
   "metadata": {},
   "source": [
    "## Designing Neural Network Architecture"
   ]
  },
  {
   "cell_type": "code",
   "execution_count": 13,
   "metadata": {},
   "outputs": [],
   "source": [
    "model = tf.keras.Sequential([\n",
    "    tf.keras.layers.Dense(128,activation = 'tanh'),\n",
    "    tf.keras.layers.Dense(64,activation = 'tanh'),\n",
    "    tf.keras.layers.Dense(32,activation = 'tanh'),\n",
    "    #Dropout(0.2),\n",
    "    #tf.keras.layers.Dense(16, activation = 'tanh'), \n",
    "    #Dropout(0.2),\n",
    "    tf.keras.layers.Dense(8, activation = 'tanh'), \n",
    "    #tf.keras.layers.Dense(8,  activation = 'tanh'), \n",
    "    #Dropout(0.2),\n",
    "    tf.keras.layers.Dense(4,  activation = 'tanh'),\n",
    "    #Dropout(0.2),\n",
    "    tf.keras.layers.Dense(2,  activation = 'sigmoid')\n",
    "])"
   ]
  },
  {
   "cell_type": "code",
   "execution_count": 14,
   "metadata": {},
   "outputs": [],
   "source": [
    "model.compile(optimizer = 'Adadelta',\n",
    "             loss = tf.keras.losses.SparseCategoricalCrossentropy(from_logits=True),\n",
    "             metrics=['accuracy'])"
   ]
  },
  {
   "cell_type": "code",
   "execution_count": 15,
   "metadata": {},
   "outputs": [
    {
     "name": "stdout",
     "output_type": "stream",
     "text": [
      "Train on 54664 samples, validate on 23428 samples\n",
      "Epoch 1/100\n",
      "54664/54664 [==============================] - 3s 48us/sample - loss: 0.6895 - accuracy: 0.4832 - val_loss: 0.6893 - val_accuracy: 0.4722\n",
      "Epoch 2/100\n",
      "54664/54664 [==============================] - 1s 10us/sample - loss: 0.6882 - accuracy: 0.4868 - val_loss: 0.6878 - val_accuracy: 0.5268\n",
      "Epoch 3/100\n",
      "54664/54664 [==============================] - 1s 9us/sample - loss: 0.6871 - accuracy: 0.7247 - val_loss: 0.6867 - val_accuracy: 0.8270\n",
      "Epoch 4/100\n",
      "54664/54664 [==============================] - 0s 9us/sample - loss: 0.6863 - accuracy: 0.8811 - val_loss: 0.6857 - val_accuracy: 0.9050\n",
      "Epoch 5/100\n",
      "54664/54664 [==============================] - 1s 9us/sample - loss: 0.6855 - accuracy: 0.8968 - val_loss: 0.6848 - val_accuracy: 0.8794\n",
      "Epoch 6/100\n",
      "54664/54664 [==============================] - 0s 9us/sample - loss: 0.6847 - accuracy: 0.8260 - val_loss: 0.6840 - val_accuracy: 0.8421\n",
      "Epoch 7/100\n",
      "54664/54664 [==============================] - 0s 9us/sample - loss: 0.6839 - accuracy: 0.7343 - val_loss: 0.6832 - val_accuracy: 0.8321\n",
      "Epoch 8/100\n",
      "54664/54664 [==============================] - 1s 10us/sample - loss: 0.6831 - accuracy: 0.8531 - val_loss: 0.6824 - val_accuracy: 0.7835\n",
      "Epoch 9/100\n",
      "54664/54664 [==============================] - 1s 10us/sample - loss: 0.6823 - accuracy: 0.8057 - val_loss: 0.6815 - val_accuracy: 0.8360\n",
      "Epoch 10/100\n",
      "54664/54664 [==============================] - 1s 10us/sample - loss: 0.6815 - accuracy: 0.8220 - val_loss: 0.6807 - val_accuracy: 0.8924\n",
      "Epoch 11/100\n",
      "54664/54664 [==============================] - 1s 9us/sample - loss: 0.6806 - accuracy: 0.8868 - val_loss: 0.6798 - val_accuracy: 0.9031\n",
      "Epoch 12/100\n",
      "54664/54664 [==============================] - 0s 9us/sample - loss: 0.6798 - accuracy: 0.9000 - val_loss: 0.6790 - val_accuracy: 0.9056\n",
      "Epoch 13/100\n",
      "54664/54664 [==============================] - 1s 9us/sample - loss: 0.6789 - accuracy: 0.9015 - val_loss: 0.6780 - val_accuracy: 0.9072\n",
      "Epoch 14/100\n",
      "54664/54664 [==============================] - 1s 11us/sample - loss: 0.6780 - accuracy: 0.9023 - val_loss: 0.6771 - val_accuracy: 0.9078\n",
      "Epoch 15/100\n",
      "54664/54664 [==============================] - 1s 10us/sample - loss: 0.6771 - accuracy: 0.9027 - val_loss: 0.6762 - val_accuracy: 0.9078\n",
      "Epoch 16/100\n",
      "54664/54664 [==============================] - 1s 10us/sample - loss: 0.6761 - accuracy: 0.9027 - val_loss: 0.6753 - val_accuracy: 0.9078\n",
      "Epoch 17/100\n",
      "54664/54664 [==============================] - 1s 10us/sample - loss: 0.6752 - accuracy: 0.9027 - val_loss: 0.6743 - val_accuracy: 0.9078\n",
      "Epoch 18/100\n",
      "54664/54664 [==============================] - 1s 10us/sample - loss: 0.6742 - accuracy: 0.9026 - val_loss: 0.6734 - val_accuracy: 0.9078\n",
      "Epoch 19/100\n",
      "54664/54664 [==============================] - 1s 10us/sample - loss: 0.6732 - accuracy: 0.9027 - val_loss: 0.6724 - val_accuracy: 0.9078\n",
      "Epoch 20/100\n",
      "54664/54664 [==============================] - 1s 10us/sample - loss: 0.6723 - accuracy: 0.9026 - val_loss: 0.6714 - val_accuracy: 0.9078\n",
      "Epoch 21/100\n",
      "54664/54664 [==============================] - 1s 10us/sample - loss: 0.6713 - accuracy: 0.9026 - val_loss: 0.6705 - val_accuracy: 0.9078\n",
      "Epoch 22/100\n",
      "54664/54664 [==============================] - 1s 11us/sample - loss: 0.6703 - accuracy: 0.9026 - val_loss: 0.6695 - val_accuracy: 0.9078\n",
      "Epoch 23/100\n",
      "54664/54664 [==============================] - 1s 10us/sample - loss: 0.6693 - accuracy: 0.9026 - val_loss: 0.6685 - val_accuracy: 0.9078\n",
      "Epoch 24/100\n",
      "54664/54664 [==============================] - 1s 10us/sample - loss: 0.6683 - accuracy: 0.9026 - val_loss: 0.6675 - val_accuracy: 0.9078\n",
      "Epoch 25/100\n",
      "54664/54664 [==============================] - 1s 10us/sample - loss: 0.6673 - accuracy: 0.9026 - val_loss: 0.6665 - val_accuracy: 0.9078\n",
      "Epoch 26/100\n",
      "54664/54664 [==============================] - 1s 11us/sample - loss: 0.6663 - accuracy: 0.9026 - val_loss: 0.6654 - val_accuracy: 0.9078\n",
      "Epoch 27/100\n",
      "54664/54664 [==============================] - 1s 10us/sample - loss: 0.6653 - accuracy: 0.9026 - val_loss: 0.6645 - val_accuracy: 0.9078\n",
      "Epoch 28/100\n",
      "54664/54664 [==============================] - 1s 10us/sample - loss: 0.6643 - accuracy: 0.9026 - val_loss: 0.6634 - val_accuracy: 0.9078\n",
      "Epoch 29/100\n",
      "54664/54664 [==============================] - 1s 11us/sample - loss: 0.6633 - accuracy: 0.9026 - val_loss: 0.6624 - val_accuracy: 0.9078\n",
      "Epoch 30/100\n",
      "54664/54664 [==============================] - 1s 10us/sample - loss: 0.6623 - accuracy: 0.9026 - val_loss: 0.6614 - val_accuracy: 0.9078\n",
      "Epoch 31/100\n",
      "54664/54664 [==============================] - 1s 9us/sample - loss: 0.6612 - accuracy: 0.9026 - val_loss: 0.6604 - val_accuracy: 0.9078\n",
      "Epoch 32/100\n",
      "54664/54664 [==============================] - 1s 9us/sample - loss: 0.6602 - accuracy: 0.9026 - val_loss: 0.6593 - val_accuracy: 0.9078\n",
      "Epoch 33/100\n",
      "54664/54664 [==============================] - 1s 9us/sample - loss: 0.6592 - accuracy: 0.9026 - val_loss: 0.6583 - val_accuracy: 0.9078\n",
      "Epoch 34/100\n",
      "54664/54664 [==============================] - 1s 9us/sample - loss: 0.6581 - accuracy: 0.9026 - val_loss: 0.6572 - val_accuracy: 0.9078\n",
      "Epoch 35/100\n",
      "54664/54664 [==============================] - 1s 9us/sample - loss: 0.6571 - accuracy: 0.9026 - val_loss: 0.6562 - val_accuracy: 0.9078\n",
      "Epoch 36/100\n",
      "54664/54664 [==============================] - 1s 10us/sample - loss: 0.6561 - accuracy: 0.9026 - val_loss: 0.6552 - val_accuracy: 0.9078\n",
      "Epoch 37/100\n",
      "54664/54664 [==============================] - 1s 10us/sample - loss: 0.6550 - accuracy: 0.9026 - val_loss: 0.6541 - val_accuracy: 0.9078\n",
      "Epoch 38/100\n",
      "54664/54664 [==============================] - 1s 11us/sample - loss: 0.6539 - accuracy: 0.9026 - val_loss: 0.6530 - val_accuracy: 0.9078\n",
      "Epoch 39/100\n",
      "54664/54664 [==============================] - 1s 11us/sample - loss: 0.6528 - accuracy: 0.9026 - val_loss: 0.6520 - val_accuracy: 0.9078\n",
      "Epoch 40/100\n",
      "54664/54664 [==============================] - 1s 10us/sample - loss: 0.6518 - accuracy: 0.9026 - val_loss: 0.6509 - val_accuracy: 0.9078\n",
      "Epoch 41/100\n",
      "54664/54664 [==============================] - 1s 11us/sample - loss: 0.6507 - accuracy: 0.9026 - val_loss: 0.6498 - val_accuracy: 0.9078\n",
      "Epoch 42/100\n",
      "54664/54664 [==============================] - 1s 11us/sample - loss: 0.6496 - accuracy: 0.9026 - val_loss: 0.6487 - val_accuracy: 0.9078\n",
      "Epoch 43/100\n",
      "54664/54664 [==============================] - 1s 10us/sample - loss: 0.6485 - accuracy: 0.9026 - val_loss: 0.6475 - val_accuracy: 0.9078\n",
      "Epoch 44/100\n",
      "54664/54664 [==============================] - 1s 11us/sample - loss: 0.6473 - accuracy: 0.9026 - val_loss: 0.6464 - val_accuracy: 0.9078\n",
      "Epoch 45/100\n",
      "54664/54664 [==============================] - 1s 10us/sample - loss: 0.6462 - accuracy: 0.9026 - val_loss: 0.6452 - val_accuracy: 0.9078\n",
      "Epoch 46/100\n",
      "54664/54664 [==============================] - 1s 10us/sample - loss: 0.6451 - accuracy: 0.9026 - val_loss: 0.6441 - val_accuracy: 0.9077\n",
      "Epoch 47/100\n",
      "54664/54664 [==============================] - 1s 11us/sample - loss: 0.6439 - accuracy: 0.9026 - val_loss: 0.6430 - val_accuracy: 0.9077\n",
      "Epoch 48/100\n",
      "54664/54664 [==============================] - 1s 11us/sample - loss: 0.6428 - accuracy: 0.9026 - val_loss: 0.6418 - val_accuracy: 0.9078\n",
      "Epoch 49/100\n",
      "54664/54664 [==============================] - 1s 10us/sample - loss: 0.6416 - accuracy: 0.9026 - val_loss: 0.6406 - val_accuracy: 0.9077\n",
      "Epoch 50/100\n",
      "54664/54664 [==============================] - 1s 10us/sample - loss: 0.6404 - accuracy: 0.9026 - val_loss: 0.6394 - val_accuracy: 0.9078\n",
      "Epoch 51/100\n",
      "54664/54664 [==============================] - 1s 10us/sample - loss: 0.6392 - accuracy: 0.9026 - val_loss: 0.6382 - val_accuracy: 0.9077\n",
      "Epoch 52/100\n",
      "54664/54664 [==============================] - 1s 9us/sample - loss: 0.6380 - accuracy: 0.9026 - val_loss: 0.6370 - val_accuracy: 0.9077\n",
      "Epoch 53/100\n",
      "54664/54664 [==============================] - 1s 10us/sample - loss: 0.6368 - accuracy: 0.9026 - val_loss: 0.6357 - val_accuracy: 0.9077\n",
      "Epoch 54/100\n",
      "54664/54664 [==============================] - 1s 9us/sample - loss: 0.6356 - accuracy: 0.9026 - val_loss: 0.6345 - val_accuracy: 0.9078\n",
      "Epoch 55/100\n"
     ]
    },
    {
     "name": "stdout",
     "output_type": "stream",
     "text": [
      "54664/54664 [==============================] - 1s 10us/sample - loss: 0.6344 - accuracy: 0.9026 - val_loss: 0.6333 - val_accuracy: 0.9077\n",
      "Epoch 56/100\n",
      "54664/54664 [==============================] - 1s 9us/sample - loss: 0.6331 - accuracy: 0.9026 - val_loss: 0.6320 - val_accuracy: 0.9077\n",
      "Epoch 57/100\n",
      "54664/54664 [==============================] - 1s 10us/sample - loss: 0.6319 - accuracy: 0.9026 - val_loss: 0.6308 - val_accuracy: 0.9077\n",
      "Epoch 58/100\n",
      "54664/54664 [==============================] - 1s 10us/sample - loss: 0.6306 - accuracy: 0.9026 - val_loss: 0.6295 - val_accuracy: 0.9077\n",
      "Epoch 59/100\n",
      "54664/54664 [==============================] - 1s 10us/sample - loss: 0.6294 - accuracy: 0.9026 - val_loss: 0.6282 - val_accuracy: 0.9077\n",
      "Epoch 60/100\n",
      "54664/54664 [==============================] - 1s 11us/sample - loss: 0.6281 - accuracy: 0.9026 - val_loss: 0.6270 - val_accuracy: 0.9077\n",
      "Epoch 61/100\n",
      "54664/54664 [==============================] - 1s 10us/sample - loss: 0.6268 - accuracy: 0.9026 - val_loss: 0.6257 - val_accuracy: 0.9078\n",
      "Epoch 62/100\n",
      "54664/54664 [==============================] - 1s 10us/sample - loss: 0.6256 - accuracy: 0.9026 - val_loss: 0.6244 - val_accuracy: 0.9078\n",
      "Epoch 63/100\n",
      "54664/54664 [==============================] - 1s 10us/sample - loss: 0.6243 - accuracy: 0.9026 - val_loss: 0.6231 - val_accuracy: 0.9078\n",
      "Epoch 64/100\n",
      "54664/54664 [==============================] - 1s 9us/sample - loss: 0.6230 - accuracy: 0.9026 - val_loss: 0.6218 - val_accuracy: 0.9077\n",
      "Epoch 65/100\n",
      "54664/54664 [==============================] - 1s 11us/sample - loss: 0.6217 - accuracy: 0.9026 - val_loss: 0.6205 - val_accuracy: 0.9078\n",
      "Epoch 66/100\n",
      "54664/54664 [==============================] - 1s 10us/sample - loss: 0.6204 - accuracy: 0.9026 - val_loss: 0.6191 - val_accuracy: 0.9078\n",
      "Epoch 67/100\n",
      "54664/54664 [==============================] - 1s 10us/sample - loss: 0.6190 - accuracy: 0.9026 - val_loss: 0.6178 - val_accuracy: 0.9078\n",
      "Epoch 68/100\n",
      "54664/54664 [==============================] - 1s 10us/sample - loss: 0.6177 - accuracy: 0.9026 - val_loss: 0.6165 - val_accuracy: 0.9078\n",
      "Epoch 69/100\n",
      "54664/54664 [==============================] - 1s 10us/sample - loss: 0.6164 - accuracy: 0.9026 - val_loss: 0.6151 - val_accuracy: 0.9078\n",
      "Epoch 70/100\n",
      "54664/54664 [==============================] - 1s 10us/sample - loss: 0.6151 - accuracy: 0.9026 - val_loss: 0.6138 - val_accuracy: 0.9078\n",
      "Epoch 71/100\n",
      "54664/54664 [==============================] - 1s 10us/sample - loss: 0.6138 - accuracy: 0.9026 - val_loss: 0.6125 - val_accuracy: 0.9078\n",
      "Epoch 72/100\n",
      "54664/54664 [==============================] - 1s 10us/sample - loss: 0.6124 - accuracy: 0.9026 - val_loss: 0.6111 - val_accuracy: 0.9078\n",
      "Epoch 73/100\n",
      "54664/54664 [==============================] - 0s 9us/sample - loss: 0.6111 - accuracy: 0.9026 - val_loss: 0.6098 - val_accuracy: 0.9078\n",
      "Epoch 74/100\n",
      "54664/54664 [==============================] - 1s 9us/sample - loss: 0.6098 - accuracy: 0.9026 - val_loss: 0.6085 - val_accuracy: 0.9078\n",
      "Epoch 75/100\n",
      "54664/54664 [==============================] - 0s 9us/sample - loss: 0.6084 - accuracy: 0.9026 - val_loss: 0.6072 - val_accuracy: 0.9078\n",
      "Epoch 76/100\n",
      "54664/54664 [==============================] - 0s 9us/sample - loss: 0.6071 - accuracy: 0.9026 - val_loss: 0.6057 - val_accuracy: 0.9078\n",
      "Epoch 77/100\n",
      "54664/54664 [==============================] - 0s 9us/sample - loss: 0.6058 - accuracy: 0.9026 - val_loss: 0.6044 - val_accuracy: 0.9078\n",
      "Epoch 78/100\n",
      "54664/54664 [==============================] - 1s 9us/sample - loss: 0.6044 - accuracy: 0.9026 - val_loss: 0.6031 - val_accuracy: 0.9078\n",
      "Epoch 79/100\n",
      "54664/54664 [==============================] - 0s 9us/sample - loss: 0.6031 - accuracy: 0.9026 - val_loss: 0.6018 - val_accuracy: 0.9078\n",
      "Epoch 80/100\n",
      "54664/54664 [==============================] - 1s 9us/sample - loss: 0.6018 - accuracy: 0.9026 - val_loss: 0.6004 - val_accuracy: 0.9078\n",
      "Epoch 81/100\n",
      "54664/54664 [==============================] - 1s 9us/sample - loss: 0.6005 - accuracy: 0.9026 - val_loss: 0.5990 - val_accuracy: 0.9078\n",
      "Epoch 82/100\n",
      "54664/54664 [==============================] - 0s 9us/sample - loss: 0.5992 - accuracy: 0.9026 - val_loss: 0.5977 - val_accuracy: 0.9078\n",
      "Epoch 83/100\n",
      "54664/54664 [==============================] - 1s 9us/sample - loss: 0.5978 - accuracy: 0.9026 - val_loss: 0.5964 - val_accuracy: 0.9078\n",
      "Epoch 84/100\n",
      "54664/54664 [==============================] - 0s 9us/sample - loss: 0.5965 - accuracy: 0.9026 - val_loss: 0.5951 - val_accuracy: 0.9078\n",
      "Epoch 85/100\n",
      "54664/54664 [==============================] - 1s 10us/sample - loss: 0.5952 - accuracy: 0.9026 - val_loss: 0.5938 - val_accuracy: 0.9078\n",
      "Epoch 86/100\n",
      "54664/54664 [==============================] - 0s 9us/sample - loss: 0.5939 - accuracy: 0.9026 - val_loss: 0.5925 - val_accuracy: 0.9078\n",
      "Epoch 87/100\n",
      "54664/54664 [==============================] - 0s 9us/sample - loss: 0.5926 - accuracy: 0.9026 - val_loss: 0.5911 - val_accuracy: 0.9078\n",
      "Epoch 88/100\n",
      "54664/54664 [==============================] - 1s 9us/sample - loss: 0.5914 - accuracy: 0.9026 - val_loss: 0.5899 - val_accuracy: 0.9078\n",
      "Epoch 89/100\n",
      "54664/54664 [==============================] - 0s 9us/sample - loss: 0.5901 - accuracy: 0.9026 - val_loss: 0.5886 - val_accuracy: 0.9078\n",
      "Epoch 90/100\n",
      "54664/54664 [==============================] - 1s 9us/sample - loss: 0.5888 - accuracy: 0.9026 - val_loss: 0.5874 - val_accuracy: 0.9078\n",
      "Epoch 91/100\n",
      "54664/54664 [==============================] - 1s 9us/sample - loss: 0.5876 - accuracy: 0.9026 - val_loss: 0.5861 - val_accuracy: 0.9078\n",
      "Epoch 92/100\n",
      "54664/54664 [==============================] - 0s 9us/sample - loss: 0.5863 - accuracy: 0.9026 - val_loss: 0.5848 - val_accuracy: 0.9078\n",
      "Epoch 93/100\n",
      "54664/54664 [==============================] - 0s 9us/sample - loss: 0.5851 - accuracy: 0.9026 - val_loss: 0.5835 - val_accuracy: 0.9078\n",
      "Epoch 94/100\n",
      "54664/54664 [==============================] - 1s 9us/sample - loss: 0.5839 - accuracy: 0.9026 - val_loss: 0.5823 - val_accuracy: 0.9078\n",
      "Epoch 95/100\n",
      "54664/54664 [==============================] - 0s 9us/sample - loss: 0.5826 - accuracy: 0.9026 - val_loss: 0.5811 - val_accuracy: 0.9078\n",
      "Epoch 96/100\n",
      "54664/54664 [==============================] - 1s 9us/sample - loss: 0.5814 - accuracy: 0.9026 - val_loss: 0.5799 - val_accuracy: 0.9078\n",
      "Epoch 97/100\n",
      "54664/54664 [==============================] - 0s 9us/sample - loss: 0.5802 - accuracy: 0.9026 - val_loss: 0.5786 - val_accuracy: 0.9078\n",
      "Epoch 98/100\n",
      "54664/54664 [==============================] - 1s 9us/sample - loss: 0.5790 - accuracy: 0.9026 - val_loss: 0.5774 - val_accuracy: 0.9078\n",
      "Epoch 99/100\n",
      "54664/54664 [==============================] - 0s 9us/sample - loss: 0.5779 - accuracy: 0.9026 - val_loss: 0.5762 - val_accuracy: 0.9078\n",
      "Epoch 100/100\n",
      "54664/54664 [==============================] - 1s 9us/sample - loss: 0.5767 - accuracy: 0.9026 - val_loss: 0.5751 - val_accuracy: 0.9078\n"
     ]
    }
   ],
   "source": [
    "history = model.fit(X_train, Y_train, batch_size = 1024, epochs = 100,shuffle = True, \n",
    "                    validation_split = 0.3)"
   ]
  },
  {
   "cell_type": "code",
   "execution_count": 16,
   "metadata": {},
   "outputs": [
    {
     "data": {
      "image/png": "[encoded data removed]",
      "text/plain": [
       "<Figure size 432x288 with 1 Axes>"
      ]
     },
     "metadata": {
      "needs_background": "light"
     },
     "output_type": "display_data"
    }
   ],
   "source": [
    "plt.plot(history.history['accuracy'])\n",
    "plt.plot(history.history['val_accuracy'])\n",
    "plt.title('model accuracy')\n",
    "plt.ylabel('accuracy')\n",
    "plt.xlabel('epoch')\n",
    "plt.legend(['train', 'val'], loc='upper left')\n",
    "plt.show()"
   ]
  },
  {
   "cell_type": "code",
   "execution_count": 17,
   "metadata": {},
   "outputs": [
    {
     "data": {
      "image/png": "[encoded data removed]",
      "text/plain": [
       "<Figure size 432x288 with 1 Axes>"
      ]
     },
     "metadata": {
      "needs_background": "light"
     },
     "output_type": "display_data"
    }
   ],
   "source": [
    "plt.plot(history.history['loss'])\n",
    "plt.plot(history.history['val_loss'])\n",
    "plt.title('model loss')\n",
    "plt.ylabel('loss')\n",
    "plt.xlabel('epoch')\n",
    "plt.legend(['train', 'val'], loc='upper left')\n",
    "plt.show()"
   ]
  },
  {
   "cell_type": "code",
   "execution_count": 18,
   "metadata": {},
   "outputs": [
    {
     "ename": "NameError",
     "evalue": "name 'test_pred' is not defined",
     "output_type": "error",
     "traceback": [
      "\u001b[1;31m---------------------------------------------------------------------------\u001b[0m",
      "\u001b[1;31mNameError\u001b[0m                                 Traceback (most recent call last)",
      "\u001b[1;32m<ipython-input-18-9acfb2e66b83>\u001b[0m in \u001b[0;36m<module>\u001b[1;34m\u001b[0m\n\u001b[0;32m      1\u001b[0m \u001b[0mtest_pred_mlp\u001b[0m \u001b[1;33m=\u001b[0m \u001b[0mmodel\u001b[0m\u001b[1;33m.\u001b[0m\u001b[0mpredict\u001b[0m\u001b[1;33m(\u001b[0m\u001b[0mX_test\u001b[0m\u001b[1;33m)\u001b[0m\u001b[1;33m\u001b[0m\u001b[1;33m\u001b[0m\u001b[0m\n\u001b[1;32m----> 2\u001b[1;33m \u001b[0mtest_acc\u001b[0m       \u001b[1;33m=\u001b[0m \u001b[0maccuracy_score\u001b[0m\u001b[1;33m(\u001b[0m\u001b[0mY_test\u001b[0m\u001b[1;33m,\u001b[0m \u001b[0mtest_pred\u001b[0m\u001b[1;33m)\u001b[0m\u001b[1;33m\u001b[0m\u001b[1;33m\u001b[0m\u001b[0m\n\u001b[0m\u001b[0;32m      3\u001b[0m \u001b[0mf1_test_score\u001b[0m  \u001b[1;33m=\u001b[0m \u001b[0mf1_score\u001b[0m\u001b[1;33m(\u001b[0m\u001b[0mY_test\u001b[0m  \u001b[1;33m,\u001b[0m\u001b[0mtest_pred\u001b[0m\u001b[1;33m,\u001b[0m\u001b[0maverage\u001b[0m\u001b[1;33m=\u001b[0m\u001b[1;34m'weighted'\u001b[0m\u001b[1;33m)\u001b[0m\u001b[1;33m\u001b[0m\u001b[1;33m\u001b[0m\u001b[0m\n",
      "\u001b[1;31mNameError\u001b[0m: name 'test_pred' is not defined"
     ]
    }
   ],
   "source": [
    "test_pred_mlp = model.predict(X_test)\n",
    "test_acc       = accuracy_score(Y_test, test_pred)\n",
    "f1_test_score  = f1_score(Y_test  ,test_pred,average='weighted')"
   ]
  },
  {
   "cell_type": "markdown",
   "metadata": {},
   "source": [
    "## Trying SVM"
   ]
  },
  {
   "cell_type": "code",
   "execution_count": null,
   "metadata": {},
   "outputs": [],
   "source": [
    "Kernels = ['rbf', 'poly', 'linear']\n",
    "c = [0.05, 1, 10, 20, 50 , 100, 1000]\n",
    "gamma = [0.1, 0.2, 0.5, 1, 2, 4, 8]"
   ]
  },
  {
   "cell_type": "code",
   "execution_count": 21,
   "metadata": {},
   "outputs": [],
   "source": [
    "def clf(ker,g,c,X,Y):\n",
    "    svm_clf = svm.SVC(kernel=ker, gamma=g, C = c, max_iter=20000, tol=1e-3)\n",
    "    scores = cross_val_score(svm_clf, X, Y,cv = 5 ,scoring = 'f1_weighted')\n",
    "    return (scores)"
   ]
  },
  {
   "cell_type": "code",
   "execution_count": 22,
   "metadata": {
    "scrolled": true
   },
   "outputs": [
    {
     "name": "stderr",
     "output_type": "stream",
     "text": [
      "C:\\Users\\anujp\\anaconda3\\lib\\site-packages\\sklearn\\svm\\_base.py:231: ConvergenceWarning: Solver terminated early (max_iter=20000).  Consider pre-processing your data with StandardScaler or MinMaxScaler.\n",
      "  % self.max_iter, ConvergenceWarning)\n",
      "C:\\Users\\anujp\\anaconda3\\lib\\site-packages\\sklearn\\svm\\_base.py:231: ConvergenceWarning: Solver terminated early (max_iter=20000).  Consider pre-processing your data with StandardScaler or MinMaxScaler.\n",
      "  % self.max_iter, ConvergenceWarning)\n",
      "C:\\Users\\anujp\\anaconda3\\lib\\site-packages\\sklearn\\svm\\_base.py:231: ConvergenceWarning: Solver terminated early (max_iter=20000).  Consider pre-processing your data with StandardScaler or MinMaxScaler.\n",
      "  % self.max_iter, ConvergenceWarning)\n",
      "C:\\Users\\anujp\\anaconda3\\lib\\site-packages\\sklearn\\svm\\_base.py:231: ConvergenceWarning: Solver terminated early (max_iter=20000).  Consider pre-processing your data with StandardScaler or MinMaxScaler.\n",
      "  % self.max_iter, ConvergenceWarning)\n",
      "C:\\Users\\anujp\\anaconda3\\lib\\site-packages\\sklearn\\svm\\_base.py:231: ConvergenceWarning: Solver terminated early (max_iter=20000).  Consider pre-processing your data with StandardScaler or MinMaxScaler.\n",
      "  % self.max_iter, ConvergenceWarning)\n"
     ]
    }
   ],
   "source": [
    "scores = []\n",
    "for ker in Kernels:\n",
    "    score= clf(ker = ker, g = 1, c = 1,X = X_train, Y = Y_train)\n",
    "    score = np.mean(score)\n",
    "    scores.append(score)"
   ]
  },
  {
   "cell_type": "code",
   "execution_count": 23,
   "metadata": {},
   "outputs": [
    {
     "data": {
      "text/plain": [
       "<Figure size 432x288 with 0 Axes>"
      ]
     },
     "metadata": {},
     "output_type": "display_data"
    },
    {
     "data": {
      "image/png": "[encoded data removed]",
      "text/plain": [
       "<Figure size 360x360 with 1 Axes>"
      ]
     },
     "metadata": {
      "needs_background": "light"
     },
     "output_type": "display_data"
    }
   ],
   "source": [
    "plt.figure(1)\n",
    "plt.suptitle('Param: Kernels')\n",
    "plt.figure(figsize=(5,5) )\n",
    "plt.plot(Kernels, scores)\n",
    "plt.title('Param: Kernels', fontsize = 18, color = 'navy')\n",
    "plt.xlabel('Kernels', color = 'navy',fontsize = 16)\n",
    "plt.ylabel('Mean f1-score', color='navy',fontsize = 16)\n",
    "plt.show()"
   ]
  },
  {
   "cell_type": "code",
   "execution_count": 19,
   "metadata": {},
   "outputs": [
    {
     "data": {
      "text/plain": [
       "SVC(C=1, break_ties=False, cache_size=200, class_weight=None, coef0=0.0,\n",
       "    decision_function_shape='ovr', degree=3, gamma=1, kernel='rbf',\n",
       "    max_iter=20000, probability=False, random_state=None, shrinking=True,\n",
       "    tol=0.001, verbose=False)"
      ]
     },
     "execution_count": 19,
     "metadata": {},
     "output_type": "execute_result"
    }
   ],
   "source": [
    "# Cassifier\n",
    "svm_clf = svm.SVC(kernel='rbf',gamma=1, C = 1,max_iter=20000, tol=1e-3)\n",
    "svm_clf.fit(X_train,Y_train)"
   ]
  },
  {
   "cell_type": "code",
   "execution_count": 20,
   "metadata": {},
   "outputs": [
    {
     "name": "stdout",
     "output_type": "stream",
     "text": [
      "Training Accuracy : 0.9835066332018645\n",
      "Training f1-score : 0.9835051471893679\n",
      "Testing Accuracy  : 0.9824822004814834\n",
      "Testing f1-score  : 0.9824793345126296\n"
     ]
    }
   ],
   "source": [
    "# Predictions\n",
    "test_pred  = svm_clf.predict(X_test)\n",
    "train_pred = svm_clf.predict(X_train)\n",
    "\n",
    "# Performance\n",
    "train_acc      = accuracy_score(Y_train, train_pred)\n",
    "f1_train_score = f1_score(Y_train, train_pred,average='weighted')\n",
    "\n",
    "test_acc       = accuracy_score(Y_test, test_pred)\n",
    "f1_test_score  = f1_score(Y_test  ,test_pred,average='weighted')\n",
    "\n",
    "# Printing\n",
    "print('Training Accuracy : {}'. format(train_acc))\n",
    "print('Training f1-score : {}'. format(f1_train_score))\n",
    "print('Testing Accuracy  : {}'. format(test_acc))\n",
    "print('Testing f1-score  : {}'. format(f1_test_score))"
   ]
  },
  {
   "cell_type": "code",
   "execution_count": 21,
   "metadata": {},
   "outputs": [
    {
     "name": "stdout",
     "output_type": "stream",
     "text": [
      "Normalized confusion matrix\n"
     ]
    },
    {
     "data": {
      "image/png": "[encoded data removed]",
      "text/plain": [
       "<Figure size 432x288 with 2 Axes>"
      ]
     },
     "metadata": {
      "needs_background": "light"
     },
     "output_type": "display_data"
    },
    {
     "data": {
      "image/png": "[encoded data removed]",
      "text/plain": [
       "<Figure size 432x288 with 2 Axes>"
      ]
     },
     "metadata": {
      "needs_background": "light"
     },
     "output_type": "display_data"
    },
    {
     "data": {
      "text/plain": [
       "<Figure size 648x648 with 0 Axes>"
      ]
     },
     "metadata": {},
     "output_type": "display_data"
    }
   ],
   "source": [
    "titles_options = [(\"Confusion matrix, without normalization\", None),\n",
    "                  (\"Normalized confusion matrix\", 'true')]\n",
    "for title, normalize in titles_options:\n",
    "        disp = plot_confusion_matrix(svm_clf, X_test,Y_test,cmap=plt.cm.Blues,normalize=normalize,xticks_rotation = 'vertical')\n",
    "disp.ax_.set_title(title)\n",
    "plt.figure(figsize=(9,9))\n",
    "print(title)\n",
    "plt.show()"
   ]
  },
  {
   "cell_type": "code",
   "execution_count": 49,
   "metadata": {},
   "outputs": [],
   "source": [
    "pairs2pred= pd.read_csv(('C:/Users/anujp/Desktop/sort/Entity_Resolution_Project/data/csv_files/pairs_to_predict.csv'))"
   ]
  },
  {
   "cell_type": "code",
   "execution_count": 50,
   "metadata": {},
   "outputs": [],
   "source": [
    "pairs2pred.columns = [\"left_spec_id\", \"right_spec_id\"]"
   ]
  },
  {
   "cell_type": "code",
   "execution_count": 51,
   "metadata": {},
   "outputs": [
    {
     "name": "stdout",
     "output_type": "stream",
     "text": [
      "                     left_spec_id                    right_spec_id\n",
      "0                   buy.net//4233              www.ebay.com//56325\n",
      "1                   buy.net//4233              www.ebay.com//60878\n",
      "2             www.ebay.com//53833              www.ebay.com//56424\n",
      "3             www.ebay.com//53833          www.shopbot.com.au//307\n",
      "4             www.ebay.com//53833              www.ebay.com//55645\n",
      "...                           ...                              ...\n",
      "2540538   www.priceme.co.nz//1944          www.priceme.co.nz//2345\n",
      "2540539   www.priceme.co.nz//2345  www.ukdigitalcameras.co.uk//267\n",
      "2540540   www.priceme.co.nz//2265            www.priceme.co.nz//69\n",
      "2540541  www.shopbot.com.au//1247            www.shopmania.in//634\n",
      "2540542     www.shopmania.in//902   www.ukdigitalcameras.co.uk//45\n",
      "\n",
      "[2540543 rows x 2 columns]\n"
     ]
    }
   ],
   "source": [
    "print(pairs2pred)"
   ]
  },
  {
   "cell_type": "code",
   "execution_count": 52,
   "metadata": {},
   "outputs": [
    {
     "name": "stdout",
     "output_type": "stream",
     "text": [
      "buy.net//4239\n"
     ]
    }
   ],
   "source": [
    "df_embedsSG=pd.read_csv('C:/Users/anujp/Desktop/sort/Entity_Resolution_Project/data/csv_files/pagetitle-embedding-model skipgram-loss 0.36599-200405.csv')\n",
    "#df_embedsCBOW=pd.read_csv('gdrive/My Drive/ERProject/Data/pagetitle-embedding-model CBOW-loss 0.86-200404.csv')\n",
    "df_encodes=pd.read_csv('C:/Users/anujp/Desktop/sort/Entity_Resolution_Project/data/csv_files/binary_codes.csv')\n",
    "model_encodes_list=list(df_encodes['model_binary'])\n",
    "brand_encodes_list=list(df_encodes['brand_binary'])\n",
    "#df_final=pd.read_csv('gdrive/My Drive/ERProject/Data/final dataframe with specid_pagetitle_brand_model-200404.csv')\n",
    "#page_title_list=list(df_final['page_title'])\n",
    "spec_id_list=list(df_embedsSG['spec_id'])\n",
    "print(spec_id_list[2])\n",
    "df_embedsSG=df_embedsSG.drop(['spec_id'],axis=1)\n",
    "data=df_embedsSG.values.tolist()\n",
    "data=convert_to_float(data)\n",
    "#df1=pd.read_csv(\"gdrive/My Drive/hashes/all_web_final_ds.csv\")\n",
    "#page_title_dict=dict(zip(spec_id_list,page_title_list))\n",
    "\n",
    "embeddings_dict=dict(zip(spec_id_list,data))\n",
    "model_encodes_dict=dict(zip(spec_id_list,model_encodes_list))\n",
    "brand_encodes_dict=dict(zip(spec_id_list,brand_encodes_list))\n",
    "#print(embeddings_dict[spec_id_list[0]])\n",
    "df_groundtruth=pairs2pred"
   ]
  },
  {
   "cell_type": "code",
   "execution_count": null,
   "metadata": {},
   "outputs": [],
   "source": [
    "new_df=pd.DataFrame()\n",
    "new_df['vector1']=df_groundtruth['left_spec_id'].apply(lambda x: np.array(embeddings_dict[x]))\n",
    "new_df['vector2']=df_groundtruth['right_spec_id'].apply(lambda x: np.array(embeddings_dict[x]))\n",
    "left_list=list(df_groundtruth['left_spec_id'])\n",
    "right_list=list(df_groundtruth['right_spec_id'])\n",
    "brand_list=[]\n",
    "model_list=[]\n",
    "for i in range(0, 508100):\n",
    "  if (brand_encodes_dict[left_list[i]]==brand_encodes_dict[right_list[i]]):\n",
    "    brand_list.append(int(1))\n",
    "  else:\n",
    "    brand_list.append(int(0))\n",
    "for i in range(len(left_list)):\n",
    "  if (model_encodes_dict[left_list[i]]==model_encodes_dict[right_list[i]]):\n",
    "    model_list.append(int(1))\n",
    "  else:\n",
    "    model_list.append(int(0))\n",
    "\n",
    "new_df['abs_diff']=1-(np.subtract(new_df['vector1'],new_df['vector2'])).abs()\n",
    "abs_diff_list=list(new_df['abs_diff'])\n",
    "df_absdiff=pd.DataFrame(abs_diff_list)\n",
    "df_absdiff[300]=brand_list\n",
    "df_absdiff[301]=model_list\n",
    "print(df_absdiff.head())"
   ]
  },
  {
   "cell_type": "code",
   "execution_count": null,
   "metadata": {},
   "outputs": [],
   "source": []
  }
 ],
 "metadata": {
  "kernelspec": {
   "display_name": "Python 3",
   "language": "python",
   "name": "python3"
  },
  "language_info": {
   "codemirror_mode": {
    "name": "ipython",
    "version": 3
   },
   "file_extension": ".py",
   "mimetype": "text/x-python",
   "name": "python",
   "nbconvert_exporter": "python",
   "pygments_lexer": "ipython3",
   "version": "3.7.6"
  }
 },
 "nbformat": 4,
 "nbformat_minor": 4
}
